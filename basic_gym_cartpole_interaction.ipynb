{
 "cells": [
  {
   "cell_type": "code",
   "execution_count": 1,
   "id": "639ec379",
   "metadata": {},
   "outputs": [],
   "source": [
    "# References:\n",
    "# 1. Tutorial- https://www.youtube.com/watch?v=8MC3y7ASoPs\n",
    "# 2. Gym library- https://www.gymlibrary.ml/environments/classic_control/cart_pole/?highlight=cartpole\n",
    "# 3. Gym github repository: https://github.com/openai/gym/blob/master/gym/envs/classic_control/cartpole.py"
   ]
  },
  {
   "cell_type": "code",
   "execution_count": 2,
   "id": "4717883e",
   "metadata": {},
   "outputs": [],
   "source": [
    "# Basic gym cart-pole environment interaction"
   ]
  },
  {
   "cell_type": "code",
   "execution_count": 3,
   "id": "7e47b03a",
   "metadata": {},
   "outputs": [],
   "source": [
    "import gym"
   ]
  },
  {
   "cell_type": "code",
   "execution_count": 4,
   "id": "eef49335",
   "metadata": {},
   "outputs": [],
   "source": [
    "env_name = 'CartPole-v1'\n",
    "env = gym.make(env_name, new_step_api=True, render_mode='human')"
   ]
  },
  {
   "cell_type": "code",
   "execution_count": null,
   "id": "3e206d97",
   "metadata": {},
   "outputs": [],
   "source": [
    "state = env.reset() \n",
    "\n",
    "for _ in range(1000):\n",
    "    action = env.action_space.sample()\n",
    "    state, reward, terminated, _, _ = env.step(action)\n",
    "#     print(f\"State: {state}\\nReward: {reward}\\nTerminate: {terminated}\")\n",
    "    env.render()\n",
    "    if terminated:\n",
    "        state = env.reset()"
   ]
  }
 ],
 "metadata": {
  "kernelspec": {
   "display_name": "Python 3 (ipykernel)",
   "language": "python",
   "name": "python3"
  },
  "language_info": {
   "codemirror_mode": {
    "name": "ipython",
    "version": 3
   },
   "file_extension": ".py",
   "mimetype": "text/x-python",
   "name": "python",
   "nbconvert_exporter": "python",
   "pygments_lexer": "ipython3",
   "version": "3.8.13"
  }
 },
 "nbformat": 4,
 "nbformat_minor": 5
}
