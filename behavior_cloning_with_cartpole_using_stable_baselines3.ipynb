{
 "cells": [
  {
   "cell_type": "code",
   "execution_count": 1,
   "id": "639ec379",
   "metadata": {},
   "outputs": [],
   "source": [
    "# References:\n",
    "# 1. Official tutorial from stable baselines: https://stable-baselines.readthedocs.io/en/master/guide/pretrain.html#generate-expert-trajectories\n",
    "# 2. Stable baselines 3: https://stable-baselines3.readthedocs.io/en/master/index.html\n",
    "# 3. Github code link: https://github.com/HumanCompatibleAI/imitation/blob/master/examples/quickstart.py"
   ]
  },
  {
   "cell_type": "code",
   "execution_count": 13,
   "id": "692f23cc",
   "metadata": {},
   "outputs": [
    {
     "ename": "SyntaxError",
     "evalue": "invalid syntax (979603658.py, line 3)",
     "output_type": "error",
     "traceback": [
      "\u001b[0;36m  Input \u001b[0;32mIn [13]\u001b[0;36m\u001b[0m\n\u001b[0;31m    pip install imitation\u001b[0m\n\u001b[0m        ^\u001b[0m\n\u001b[0;31mSyntaxError\u001b[0m\u001b[0;31m:\u001b[0m invalid syntax\n"
     ]
    }
   ],
   "source": [
    "# Pre-requisites: \n",
    "# pip install stable-baselines3[extra]\n",
    "pip install imitation"
   ]
  },
  {
   "cell_type": "code",
   "execution_count": null,
   "id": "ff202bb7",
   "metadata": {},
   "outputs": [],
   "source": [
    "# Official behaviour cloning tutorial from stable baselines 3"
   ]
  },
  {
   "cell_type": "code",
   "execution_count": 14,
   "id": "7e47b03a",
   "metadata": {},
   "outputs": [],
   "source": [
    "\"\"\"This is a simple example demonstrating how to clone the behavior of an expert.\n",
    "\n",
    "Refer to the jupyter notebooks for more detailed examples of how to use the algorithms.\n",
    "\"\"\"\n",
    "\n",
    "import gym\n",
    "from stable_baselines3 import PPO\n",
    "from stable_baselines3.common.evaluation import evaluate_policy\n",
    "from stable_baselines3.common.vec_env import DummyVecEnv\n",
    "from stable_baselines3.ppo import MlpPolicy\n",
    "\n",
    "from imitation.algorithms import bc\n",
    "from imitation.data import rollout\n",
    "from imitation.data.wrappers import RolloutInfoWrapper\n"
   ]
  },
  {
   "cell_type": "code",
   "execution_count": null,
   "id": "a03115fe",
   "metadata": {},
   "outputs": [],
   "source": [
    "env = gym.make(\"CartPole-v1\")\n",
    "\n",
    "\n",
    "def train_expert():\n",
    "    print(\"Training a expert.\")\n",
    "    expert = PPO(\n",
    "        policy=MlpPolicy,\n",
    "        env=env,\n",
    "        seed=0,\n",
    "        batch_size=64,\n",
    "        ent_coef=0.0,\n",
    "        learning_rate=0.0003,\n",
    "        n_epochs=10,\n",
    "        n_steps=64,\n",
    "    )\n",
    "    expert.learn(100)  # Note: change this to 100000 to train a decent expert.\n",
    "    return expert\n",
    "\n",
    "\n",
    "def sample_expert_transitions():\n",
    "    expert = train_expert()\n",
    "\n",
    "    print(\"Sampling expert transitions.\")\n",
    "    rollouts = rollout.rollout(\n",
    "        expert,\n",
    "        DummyVecEnv([lambda: RolloutInfoWrapper(env)]),\n",
    "        rollout.make_sample_until(min_timesteps=None, min_episodes=50),\n",
    "    )\n",
    "    return rollout.flatten_trajectories(rollouts)\n"
   ]
  },
  {
   "cell_type": "code",
   "execution_count": null,
   "id": "5fb6b349",
   "metadata": {},
   "outputs": [],
   "source": [
    "transitions = sample_expert_transitions()\n",
    "bc_trainer = bc.BC(\n",
    "    observation_space=env.observation_space,\n",
    "    action_space=env.action_space,\n",
    "    demonstrations=transitions,\n",
    ")\n",
    "\n",
    "reward, _ = evaluate_policy(bc_trainer.policy, env, n_eval_episodes=3, render=True)\n",
    "print(f\"Reward before training: {reward}\")\n",
    "\n",
    "print(\"Training a policy using Behavior Cloning\")\n",
    "bc_trainer.train(n_epochs=1)\n",
    "\n",
    "reward, _ = evaluate_policy(bc_trainer.policy, env, n_eval_episodes=3, render=True)\n",
    "print(f\"Reward after training: {reward}\")"
   ]
  }
 ],
 "metadata": {
  "kernelspec": {
   "display_name": "Python 3 (ipykernel)",
   "language": "python",
   "name": "python3"
  },
  "language_info": {
   "codemirror_mode": {
    "name": "ipython",
    "version": 3
   },
   "file_extension": ".py",
   "mimetype": "text/x-python",
   "name": "python",
   "nbconvert_exporter": "python",
   "pygments_lexer": "ipython3",
   "version": "3.8.13"
  }
 },
 "nbformat": 4,
 "nbformat_minor": 5
}
