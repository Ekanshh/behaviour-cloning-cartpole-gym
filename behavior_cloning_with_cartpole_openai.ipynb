{
 "cells": [
  {
   "cell_type": "code",
   "execution_count": 1,
   "id": "835bb27d",
   "metadata": {},
   "outputs": [],
   "source": [
    "import numpy as np\n",
    "import yaml\n",
    "import os\n",
    "import torch\n",
    "import torch.nn as nn\n",
    "import torch.nn.functional as F\n",
    "import torch.optim as optim\n",
    "from torch.autograd import Variable"
   ]
  },
  {
   "cell_type": "code",
   "execution_count": 2,
   "id": "1ad98743",
   "metadata": {},
   "outputs": [
    {
     "name": "stdout",
     "output_type": "stream",
     "text": [
      "... read data\n",
      "torch.Size([20000, 4])\n",
      "torch.Size([20000, 1])\n"
     ]
    },
    {
     "data": {
      "text/plain": [
       "(tensor([[-0.0227,  0.0431,  0.0228, -0.0495],\n",
       "         [-0.0218, -0.1524,  0.0218,  0.2503],\n",
       "         [-0.0249,  0.0424,  0.0268, -0.0354],\n",
       "         ...,\n",
       "         [-0.0908, -0.2321, -0.0044,  0.3062],\n",
       "         [-0.0954, -0.0369,  0.0017,  0.0121],\n",
       "         [-0.0962,  0.1581,  0.0020, -0.2801]]),\n",
       " tensor([[0.],\n",
       "         [1.],\n",
       "         [1.],\n",
       "         ...,\n",
       "         [1.],\n",
       "         [1.],\n",
       "         [0.]]))"
      ]
     },
     "execution_count": 2,
     "metadata": {},
     "output_type": "execute_result"
    }
   ],
   "source": [
    "# Function to read expert data\n",
    "\n",
    "def read_data(datasets_dir=\"./data\", frac = 0.1, dataset_1 = True):\n",
    "    print(\"... read data\")\n",
    "    \n",
    "    if dataset_1: \n",
    "        data_file = os.path.join(datasets_dir, 'transitions.pkl')\n",
    "        data = np.load(data_file, allow_pickle=True)\n",
    "        X = [data[i][j][0] for i in range(len(data)) for j in range(len(data[i]))]\n",
    "        y = [data[i][j][1] for i in range(len(data)) for j in range(len(data[i]))]\n",
    "        states = torch.cat(X).to(torch.float32)\n",
    "        actions = torch.cat(y).to(torch.float32)\n",
    "    else:\n",
    "        data_file = os.path.join(datasets_dir, 'cart_pole_demonstrations.yaml')\n",
    "        with open(data_file, 'r') as file:\n",
    "            data = yaml.safe_load(file)\n",
    "        X = np.array(data['observations'])\n",
    "        y = np.array(data['actions']).reshape(-1, 1)\n",
    "        states = torch.from_numpy(X).to(torch.float32)\n",
    "        actions = torch.from_numpy(y).to(torch.float32)\n",
    "    print(states.shape)\n",
    "    print(actions.shape)    \n",
    "    return states, actions\n",
    "\n",
    "read_data()"
   ]
  },
  {
   "cell_type": "code",
   "execution_count": 3,
   "id": "5002b820",
   "metadata": {},
   "outputs": [
    {
     "name": "stdout",
     "output_type": "stream",
     "text": [
      "... read data\n",
      "torch.Size([20000, 4])\n",
      "torch.Size([20000, 1])\n",
      "States: tensor([[-0.0227,  0.0431,  0.0228, -0.0495],\n",
      "        [-0.0218, -0.1524,  0.0218,  0.2503],\n",
      "        [-0.0249,  0.0424,  0.0268, -0.0354],\n",
      "        ...,\n",
      "        [-0.0908, -0.2321, -0.0044,  0.3062],\n",
      "        [-0.0954, -0.0369,  0.0017,  0.0121],\n",
      "        [-0.0962,  0.1581,  0.0020, -0.2801]]), Actions: tensor([[0.],\n",
      "        [1.],\n",
      "        [1.],\n",
      "        ...,\n",
      "        [1.],\n",
      "        [1.],\n",
      "        [0.]])\n"
     ]
    }
   ],
   "source": [
    "# read data \n",
    "\n",
    "states, actions = read_data()\n",
    "print(f\"States: {states}, Actions: {actions}\")\n",
    "\n"
   ]
  },
  {
   "cell_type": "code",
   "execution_count": 4,
   "id": "72758181",
   "metadata": {},
   "outputs": [
    {
     "data": {
      "text/html": [
       "<div>\n",
       "<style scoped>\n",
       "    .dataframe tbody tr th:only-of-type {\n",
       "        vertical-align: middle;\n",
       "    }\n",
       "\n",
       "    .dataframe tbody tr th {\n",
       "        vertical-align: top;\n",
       "    }\n",
       "\n",
       "    .dataframe thead th {\n",
       "        text-align: right;\n",
       "    }\n",
       "</style>\n",
       "<table border=\"1\" class=\"dataframe\">\n",
       "  <thead>\n",
       "    <tr style=\"text-align: right;\">\n",
       "      <th></th>\n",
       "      <th>X1</th>\n",
       "      <th>X2</th>\n",
       "      <th>X3</th>\n",
       "      <th>X4</th>\n",
       "      <th>action</th>\n",
       "    </tr>\n",
       "  </thead>\n",
       "  <tbody>\n",
       "    <tr>\n",
       "      <th>0</th>\n",
       "      <td>-0.022675</td>\n",
       "      <td>0.043077</td>\n",
       "      <td>0.022810</td>\n",
       "      <td>-0.049454</td>\n",
       "      <td>0.0</td>\n",
       "    </tr>\n",
       "    <tr>\n",
       "      <th>1</th>\n",
       "      <td>-0.021814</td>\n",
       "      <td>-0.152365</td>\n",
       "      <td>0.021821</td>\n",
       "      <td>0.250337</td>\n",
       "      <td>1.0</td>\n",
       "    </tr>\n",
       "    <tr>\n",
       "      <th>2</th>\n",
       "      <td>-0.024861</td>\n",
       "      <td>0.042439</td>\n",
       "      <td>0.026827</td>\n",
       "      <td>-0.035384</td>\n",
       "      <td>1.0</td>\n",
       "    </tr>\n",
       "    <tr>\n",
       "      <th>3</th>\n",
       "      <td>-0.024012</td>\n",
       "      <td>0.237166</td>\n",
       "      <td>0.026120</td>\n",
       "      <td>-0.319483</td>\n",
       "      <td>0.0</td>\n",
       "    </tr>\n",
       "    <tr>\n",
       "      <th>4</th>\n",
       "      <td>-0.019269</td>\n",
       "      <td>0.041682</td>\n",
       "      <td>0.019730</td>\n",
       "      <td>-0.018679</td>\n",
       "      <td>1.0</td>\n",
       "    </tr>\n",
       "    <tr>\n",
       "      <th>5</th>\n",
       "      <td>-0.018435</td>\n",
       "      <td>0.236516</td>\n",
       "      <td>0.019357</td>\n",
       "      <td>-0.305072</td>\n",
       "      <td>0.0</td>\n",
       "    </tr>\n",
       "    <tr>\n",
       "      <th>6</th>\n",
       "      <td>-0.013705</td>\n",
       "      <td>0.041123</td>\n",
       "      <td>0.013255</td>\n",
       "      <td>-0.006348</td>\n",
       "      <td>1.0</td>\n",
       "    </tr>\n",
       "    <tr>\n",
       "      <th>7</th>\n",
       "      <td>-0.012882</td>\n",
       "      <td>0.236053</td>\n",
       "      <td>0.013128</td>\n",
       "      <td>-0.294820</td>\n",
       "      <td>0.0</td>\n",
       "    </tr>\n",
       "    <tr>\n",
       "      <th>8</th>\n",
       "      <td>-0.008161</td>\n",
       "      <td>0.040746</td>\n",
       "      <td>0.007232</td>\n",
       "      <td>0.001975</td>\n",
       "      <td>1.0</td>\n",
       "    </tr>\n",
       "    <tr>\n",
       "      <th>9</th>\n",
       "      <td>-0.007346</td>\n",
       "      <td>0.235764</td>\n",
       "      <td>0.007271</td>\n",
       "      <td>-0.288418</td>\n",
       "      <td>0.0</td>\n",
       "    </tr>\n",
       "  </tbody>\n",
       "</table>\n",
       "</div>"
      ],
      "text/plain": [
       "         X1        X2        X3        X4  action\n",
       "0 -0.022675  0.043077  0.022810 -0.049454     0.0\n",
       "1 -0.021814 -0.152365  0.021821  0.250337     1.0\n",
       "2 -0.024861  0.042439  0.026827 -0.035384     1.0\n",
       "3 -0.024012  0.237166  0.026120 -0.319483     0.0\n",
       "4 -0.019269  0.041682  0.019730 -0.018679     1.0\n",
       "5 -0.018435  0.236516  0.019357 -0.305072     0.0\n",
       "6 -0.013705  0.041123  0.013255 -0.006348     1.0\n",
       "7 -0.012882  0.236053  0.013128 -0.294820     0.0\n",
       "8 -0.008161  0.040746  0.007232  0.001975     1.0\n",
       "9 -0.007346  0.235764  0.007271 -0.288418     0.0"
      ]
     },
     "execution_count": 4,
     "metadata": {},
     "output_type": "execute_result"
    }
   ],
   "source": [
    "# Visualize the data as panda's data frame\n",
    "\n",
    "import pandas as pd\n",
    "data= pd.DataFrame({\"X1\": states[:, 0], \"X2\": states[:, 1], \"X3\": states[:, 2], \"X4\": states[:, 3], \"action\": actions.flatten()})\n",
    "\n",
    "\n",
    "data.head(10)"
   ]
  },
  {
   "cell_type": "code",
   "execution_count": 5,
   "id": "184bdae6",
   "metadata": {},
   "outputs": [
    {
     "data": {
      "text/plain": [
       "0.0    10004\n",
       "1.0     9996\n",
       "Name: action, dtype: int64"
      ]
     },
     "execution_count": 5,
     "metadata": {},
     "output_type": "execute_result"
    }
   ],
   "source": [
    "data.action.value_counts()"
   ]
  },
  {
   "cell_type": "code",
   "execution_count": 6,
   "id": "e3b9e1e3",
   "metadata": {},
   "outputs": [
    {
     "name": "stdout",
     "output_type": "stream",
     "text": [
      "torch.Size([16000, 4])\n",
      "torch.Size([16000, 1])\n",
      "torch.Size([4000, 4])\n",
      "torch.Size([4000, 1])\n"
     ]
    }
   ],
   "source": [
    "from sklearn.model_selection import train_test_split\n",
    "\n",
    "\n",
    "\n",
    "X_train, X_test, y_train, y_test = train_test_split(states, actions, test_size=0.2, random_state=42)\n",
    "\n",
    "len(X_train), len(X_test), len(y_train), len(y_test)\n",
    "\n",
    "print(X_train.shape)\n",
    "print(y_train.shape)\n",
    "print(X_test.shape)\n",
    "print(y_test.shape)"
   ]
  },
  {
   "cell_type": "code",
   "execution_count": 7,
   "id": "dc591932",
   "metadata": {},
   "outputs": [
    {
     "data": {
      "text/plain": [
       "'cuda'"
      ]
     },
     "execution_count": 7,
     "metadata": {},
     "output_type": "execute_result"
    }
   ],
   "source": [
    "import torch\n",
    "from torch import nn\n",
    "\n",
    "device = \"cuda\" if torch.cuda.is_available() else \"cpu\"\n",
    "\n",
    "device"
   ]
  },
  {
   "cell_type": "code",
   "execution_count": 8,
   "id": "868616b7",
   "metadata": {},
   "outputs": [],
   "source": [
    "class StateActionModel(nn.Module):\n",
    "\n",
    "    def __init__(self,\n",
    "                 input_size: int = 4,\n",
    "                 hiddenLayer1_size: int = 128,\n",
    "                 hiddenLayer2_size: int = 128,                 \n",
    "                 output_size: int = 1) -> None: \n",
    "        \n",
    "        super(StateActionModel, self).__init__()\n",
    "        self.hiddenLayer1 = nn.Linear(in_features= input_size,\n",
    "                             out_features= hiddenLayer1_size)\n",
    "        self.hiddenLayer2 = nn.Linear(in_features= hiddenLayer1_size,\n",
    "                             out_features= hiddenLayer2_size)\n",
    "        self.output = nn.Linear(in_features= hiddenLayer2_size,\n",
    "                             out_features= output_size)        \n",
    "    def forward(self, x):\n",
    "        x = F.tanh(self.hiddenLayer1(x))\n",
    "        x = F.tanh(self.hiddenLayer2(x))\n",
    "        x = self.output(x)\n",
    "        return x"
   ]
  },
  {
   "cell_type": "code",
   "execution_count": 9,
   "id": "43e8cb47",
   "metadata": {},
   "outputs": [
    {
     "data": {
      "text/plain": [
       "StateActionModel(\n",
       "  (hiddenLayer1): Linear(in_features=4, out_features=128, bias=True)\n",
       "  (hiddenLayer2): Linear(in_features=128, out_features=128, bias=True)\n",
       "  (output): Linear(in_features=128, out_features=1, bias=True)\n",
       ")"
      ]
     },
     "execution_count": 9,
     "metadata": {},
     "output_type": "execute_result"
    }
   ],
   "source": [
    "model = StateActionModel().to(device)\n",
    "model"
   ]
  },
  {
   "cell_type": "code",
   "execution_count": 10,
   "id": "e8c0b0ca",
   "metadata": {},
   "outputs": [
    {
     "name": "stdout",
     "output_type": "stream",
     "text": [
      "Length of predictions: 4000, Shape: torch.Size([4000, 1])\n",
      "Length of test samples: 4000, Shape: torch.Size([4000, 1])\n",
      "\n",
      "First 10 predictions:\n",
      "tensor([[-0.0955],\n",
      "        [-0.1196],\n",
      "        [-0.0876],\n",
      "        [-0.0945],\n",
      "        [-0.1020],\n",
      "        [-0.1367],\n",
      "        [-0.0972],\n",
      "        [-0.0955],\n",
      "        [-0.0683],\n",
      "        [-0.1169]], device='cuda:0', grad_fn=<SliceBackward0>)\n",
      "\n",
      "First 10 test labels:\n",
      "tensor([[1.],\n",
      "        [1.],\n",
      "        [1.],\n",
      "        [0.],\n",
      "        [0.],\n",
      "        [0.],\n",
      "        [1.],\n",
      "        [0.],\n",
      "        [0.],\n",
      "        [1.]])\n"
     ]
    },
    {
     "name": "stderr",
     "output_type": "stream",
     "text": [
      "/home/damnghost/miniconda3/envs/dlrv/lib/python3.8/site-packages/torch/nn/functional.py:1933: UserWarning: nn.functional.tanh is deprecated. Use torch.tanh instead.\n",
      "  warnings.warn(\"nn.functional.tanh is deprecated. Use torch.tanh instead.\")\n"
     ]
    }
   ],
   "source": [
    "# Make predictions with the model\n",
    "untrained_preds = model(X_test.to(device))\n",
    "print(f\"Length of predictions: {len(untrained_preds)}, Shape: {untrained_preds.shape}\")\n",
    "print(f\"Length of test samples: {len(y_test)}, Shape: {y_test.shape}\")\n",
    "print(f\"\\nFirst 10 predictions:\\n{untrained_preds[:10]}\")\n",
    "print(f\"\\nFirst 10 test labels:\\n{y_test[:10]}\")"
   ]
  },
  {
   "cell_type": "code",
   "execution_count": 11,
   "id": "47d240bb",
   "metadata": {},
   "outputs": [],
   "source": [
    "# Create a loss function\n",
    "# loss_fn = nn.BCELoss() # BCELoss = no sigmoid built-in\n",
    "loss_fn = nn.BCEWithLogitsLoss() # BCEWithLogitsLoss = sigmoid built-in\n",
    "\n",
    "# Create an optimizer\n",
    "optimizer = torch.optim.Adam(params=model.parameters(), \n",
    "                            lr=0.001)"
   ]
  },
  {
   "cell_type": "code",
   "execution_count": 12,
   "id": "7d38b894",
   "metadata": {},
   "outputs": [],
   "source": [
    "# Calculate accuracy (a classification metric)\n",
    "def accuracy_fn(y_true, y_pred):\n",
    "    correct = torch.eq(y_true, y_pred).sum().item() # torch.eq() calculates where two tensors are equal\n",
    "    acc = (correct / len(y_pred)) * 100 \n",
    "    return acc"
   ]
  },
  {
   "cell_type": "code",
   "execution_count": 13,
   "id": "4006fa0a",
   "metadata": {},
   "outputs": [
    {
     "data": {
      "text/plain": [
       "tensor([[-0.0955],\n",
       "        [-0.1196],\n",
       "        [-0.0876],\n",
       "        ...,\n",
       "        [-0.0396],\n",
       "        [-0.0920],\n",
       "        [-0.0875]], device='cuda:0', grad_fn=<AddmmBackward0>)"
      ]
     },
     "execution_count": 13,
     "metadata": {},
     "output_type": "execute_result"
    }
   ],
   "source": [
    "# View the frist 5 outputs of the forward pass on the test data\n",
    "y_logits = model(X_test.to(device))\n",
    "y_logits"
   ]
  },
  {
   "cell_type": "code",
   "execution_count": 14,
   "id": "1da2e0e8",
   "metadata": {},
   "outputs": [
    {
     "name": "stdout",
     "output_type": "stream",
     "text": [
      "predictions: tensor([[-0.],\n",
      "        [-0.],\n",
      "        [-0.],\n",
      "        ...,\n",
      "        [-0.],\n",
      "        [-0.],\n",
      "        [-0.]], device='cuda:0', grad_fn=<RoundBackward0>)\n",
      "tensor([True, True, True,  ..., True, True, True], device='cuda:0')\n"
     ]
    },
    {
     "data": {
      "text/plain": [
       "tensor([-0., -0., -0.,  ..., -0., -0., -0.], device='cuda:0',\n",
       "       grad_fn=<SqueezeBackward0>)"
      ]
     },
     "execution_count": 14,
     "metadata": {},
     "output_type": "execute_result"
    }
   ],
   "source": [
    "# Find the predicted labels (round the prediction probabilities)\n",
    "y_preds = torch.round(y_logits)\n",
    "print(f\"predictions: {y_preds}\")\n",
    "\n",
    "# In full\n",
    "y_pred_labels = torch.round((model(X_test.to(device))))\n",
    "\n",
    "# Check for equality\n",
    "print(torch.eq(y_preds.squeeze(), y_pred_labels.squeeze()))\n",
    "\n",
    "# Get rid of extra dimension\n",
    "y_preds.squeeze()"
   ]
  },
  {
   "cell_type": "code",
   "execution_count": 15,
   "id": "89387d35",
   "metadata": {},
   "outputs": [
    {
     "data": {
      "text/plain": [
       "tensor([[1.],\n",
       "        [1.],\n",
       "        [1.],\n",
       "        ...,\n",
       "        [1.],\n",
       "        [0.],\n",
       "        [1.]])"
      ]
     },
     "execution_count": 15,
     "metadata": {},
     "output_type": "execute_result"
    }
   ],
   "source": [
    "y_test"
   ]
  },
  {
   "cell_type": "code",
   "execution_count": 16,
   "id": "32b02bcb",
   "metadata": {},
   "outputs": [
    {
     "name": "stdout",
     "output_type": "stream",
     "text": [
      "Epoch: 0 | Loss: 0.69935, Accuracy: 49.86% | Test loss: 0.68462, Test acc: 50.68%\n",
      "Epoch: 10 | Loss: 0.56962, Accuracy: 77.53% | Test loss: 0.55525, Test acc: 78.25%\n",
      "Epoch: 20 | Loss: 0.45715, Accuracy: 78.59% | Test loss: 0.44448, Test acc: 79.80%\n",
      "Epoch: 30 | Loss: 0.38313, Accuracy: 79.62% | Test loss: 0.37569, Test acc: 80.30%\n",
      "Epoch: 40 | Loss: 0.34916, Accuracy: 80.38% | Test loss: 0.34663, Test acc: 80.35%\n",
      "Epoch: 50 | Loss: 0.33791, Accuracy: 80.33% | Test loss: 0.33789, Test acc: 80.62%\n",
      "Epoch: 60 | Loss: 0.33403, Accuracy: 80.52% | Test loss: 0.33413, Test acc: 80.90%\n",
      "Epoch: 70 | Loss: 0.33178, Accuracy: 80.66% | Test loss: 0.33152, Test acc: 80.88%\n",
      "Epoch: 80 | Loss: 0.32972, Accuracy: 80.80% | Test loss: 0.32953, Test acc: 81.15%\n",
      "Epoch: 90 | Loss: 0.32756, Accuracy: 80.93% | Test loss: 0.32752, Test acc: 81.27%\n",
      "Epoch: 100 | Loss: 0.32530, Accuracy: 81.09% | Test loss: 0.32518, Test acc: 81.38%\n",
      "Epoch: 110 | Loss: 0.32294, Accuracy: 81.31% | Test loss: 0.32280, Test acc: 81.47%\n",
      "Epoch: 120 | Loss: 0.32045, Accuracy: 81.46% | Test loss: 0.32034, Test acc: 81.75%\n",
      "Epoch: 130 | Loss: 0.31782, Accuracy: 81.66% | Test loss: 0.31768, Test acc: 81.95%\n",
      "Epoch: 140 | Loss: 0.31501, Accuracy: 81.92% | Test loss: 0.31485, Test acc: 82.08%\n",
      "Epoch: 150 | Loss: 0.31201, Accuracy: 82.22% | Test loss: 0.31184, Test acc: 82.30%\n",
      "Epoch: 160 | Loss: 0.30882, Accuracy: 82.63% | Test loss: 0.30861, Test acc: 82.73%\n",
      "Epoch: 170 | Loss: 0.30542, Accuracy: 83.09% | Test loss: 0.30518, Test acc: 83.08%\n",
      "Epoch: 180 | Loss: 0.30185, Accuracy: 83.54% | Test loss: 0.30156, Test acc: 83.60%\n",
      "Epoch: 190 | Loss: 0.29812, Accuracy: 84.15% | Test loss: 0.29783, Test acc: 84.10%\n",
      "Epoch: 200 | Loss: 0.29422, Accuracy: 84.70% | Test loss: 0.29384, Test acc: 84.47%\n",
      "Epoch: 210 | Loss: 0.29017, Accuracy: 85.39% | Test loss: 0.28973, Test acc: 84.97%\n",
      "Epoch: 220 | Loss: 0.28599, Accuracy: 85.84% | Test loss: 0.28543, Test acc: 86.08%\n",
      "Epoch: 230 | Loss: 0.28162, Accuracy: 86.66% | Test loss: 0.28101, Test acc: 86.30%\n",
      "Epoch: 240 | Loss: 0.27712, Accuracy: 86.99% | Test loss: 0.27637, Test acc: 87.00%\n",
      "Epoch: 250 | Loss: 0.27246, Accuracy: 87.97% | Test loss: 0.27160, Test acc: 87.52%\n",
      "Epoch: 260 | Loss: 0.26762, Accuracy: 88.29% | Test loss: 0.26661, Test acc: 88.65%\n",
      "Epoch: 270 | Loss: 0.26263, Accuracy: 89.09% | Test loss: 0.26146, Test acc: 89.25%\n",
      "Epoch: 280 | Loss: 0.25746, Accuracy: 89.36% | Test loss: 0.25612, Test acc: 90.05%\n",
      "Epoch: 290 | Loss: 0.25216, Accuracy: 90.32% | Test loss: 0.25062, Test acc: 90.40%\n",
      "Epoch: 300 | Loss: 0.24671, Accuracy: 90.67% | Test loss: 0.24497, Test acc: 90.77%\n",
      "Epoch: 310 | Loss: 0.24119, Accuracy: 91.62% | Test loss: 0.23922, Test acc: 91.10%\n",
      "Epoch: 320 | Loss: 0.23558, Accuracy: 91.76% | Test loss: 0.23338, Test acc: 91.72%\n",
      "Epoch: 330 | Loss: 0.23000, Accuracy: 92.66% | Test loss: 0.22752, Test acc: 92.10%\n",
      "Epoch: 340 | Loss: 0.22439, Accuracy: 92.71% | Test loss: 0.22166, Test acc: 92.62%\n",
      "Epoch: 350 | Loss: 0.21897, Accuracy: 93.31% | Test loss: 0.21592, Test acc: 92.67%\n",
      "Epoch: 360 | Loss: 0.21353, Accuracy: 93.20% | Test loss: 0.21027, Test acc: 93.20%\n",
      "Epoch: 370 | Loss: 0.20836, Accuracy: 93.73% | Test loss: 0.20480, Test acc: 93.05%\n",
      "Epoch: 380 | Loss: 0.20323, Accuracy: 93.55% | Test loss: 0.19953, Test acc: 93.67%\n",
      "Epoch: 390 | Loss: 0.19830, Accuracy: 94.04% | Test loss: 0.19425, Test acc: 93.58%\n",
      "Epoch: 400 | Loss: 0.19358, Accuracy: 93.92% | Test loss: 0.18940, Test acc: 94.08%\n",
      "Epoch: 410 | Loss: 0.18915, Accuracy: 94.16% | Test loss: 0.18461, Test acc: 94.12%\n",
      "Epoch: 420 | Loss: 0.18517, Accuracy: 94.42% | Test loss: 0.18025, Test acc: 94.30%\n",
      "Epoch: 430 | Loss: 0.18121, Accuracy: 94.18% | Test loss: 0.17628, Test acc: 94.40%\n",
      "Epoch: 440 | Loss: 0.17748, Accuracy: 94.43% | Test loss: 0.17222, Test acc: 94.25%\n",
      "Epoch: 450 | Loss: 0.17389, Accuracy: 94.51% | Test loss: 0.16858, Test acc: 94.45%\n",
      "Epoch: 460 | Loss: 0.17065, Accuracy: 94.54% | Test loss: 0.16507, Test acc: 94.47%\n",
      "Epoch: 470 | Loss: 0.16780, Accuracy: 94.62% | Test loss: 0.16190, Test acc: 94.40%\n",
      "Epoch: 480 | Loss: 0.16478, Accuracy: 94.61% | Test loss: 0.15897, Test acc: 94.75%\n",
      "Epoch: 490 | Loss: 0.16203, Accuracy: 94.71% | Test loss: 0.15588, Test acc: 94.67%\n",
      "Epoch: 500 | Loss: 0.15973, Accuracy: 94.76% | Test loss: 0.15327, Test acc: 94.53%\n",
      "Epoch: 510 | Loss: 0.15719, Accuracy: 94.72% | Test loss: 0.15087, Test acc: 94.92%\n",
      "Epoch: 520 | Loss: 0.15490, Accuracy: 94.85% | Test loss: 0.14818, Test acc: 94.75%\n",
      "Epoch: 530 | Loss: 0.15282, Accuracy: 94.91% | Test loss: 0.14589, Test acc: 94.88%\n",
      "Epoch: 540 | Loss: 0.15077, Accuracy: 94.96% | Test loss: 0.14373, Test acc: 94.90%\n",
      "Epoch: 550 | Loss: 0.14925, Accuracy: 94.87% | Test loss: 0.14201, Test acc: 94.80%\n",
      "Epoch: 560 | Loss: 0.14747, Accuracy: 94.88% | Test loss: 0.13983, Test acc: 95.05%\n",
      "Epoch: 570 | Loss: 0.14555, Accuracy: 94.94% | Test loss: 0.13798, Test acc: 95.12%\n",
      "Epoch: 580 | Loss: 0.14410, Accuracy: 94.99% | Test loss: 0.13630, Test acc: 95.17%\n",
      "Epoch: 590 | Loss: 0.14267, Accuracy: 95.01% | Test loss: 0.13471, Test acc: 95.12%\n",
      "Epoch: 600 | Loss: 0.14134, Accuracy: 95.02% | Test loss: 0.13324, Test acc: 95.15%\n",
      "Epoch: 610 | Loss: 0.14011, Accuracy: 95.06% | Test loss: 0.13186, Test acc: 95.30%\n",
      "Epoch: 620 | Loss: 0.13898, Accuracy: 95.12% | Test loss: 0.13059, Test acc: 95.38%\n",
      "Epoch: 630 | Loss: 0.13793, Accuracy: 95.15% | Test loss: 0.12937, Test acc: 95.30%\n",
      "Epoch: 640 | Loss: 0.13697, Accuracy: 95.17% | Test loss: 0.12826, Test acc: 95.35%\n",
      "Epoch: 650 | Loss: 0.13609, Accuracy: 95.15% | Test loss: 0.12721, Test acc: 95.38%\n",
      "Epoch: 660 | Loss: 0.13529, Accuracy: 95.13% | Test loss: 0.12623, Test acc: 95.35%\n",
      "Epoch: 670 | Loss: 0.13589, Accuracy: 94.97% | Test loss: 0.12644, Test acc: 94.90%\n",
      "Epoch: 680 | Loss: 0.13409, Accuracy: 95.11% | Test loss: 0.12476, Test acc: 95.12%\n",
      "Epoch: 690 | Loss: 0.13349, Accuracy: 95.11% | Test loss: 0.12384, Test acc: 95.33%\n",
      "Epoch: 700 | Loss: 0.13281, Accuracy: 95.14% | Test loss: 0.12316, Test acc: 95.47%\n",
      "Epoch: 710 | Loss: 0.13226, Accuracy: 95.19% | Test loss: 0.12256, Test acc: 95.50%\n",
      "Epoch: 720 | Loss: 0.13179, Accuracy: 95.19% | Test loss: 0.12197, Test acc: 95.55%\n",
      "Epoch: 730 | Loss: 0.13135, Accuracy: 95.19% | Test loss: 0.12141, Test acc: 95.53%\n",
      "Epoch: 740 | Loss: 0.13095, Accuracy: 95.18% | Test loss: 0.12088, Test acc: 95.53%\n",
      "Epoch: 750 | Loss: 0.13057, Accuracy: 95.21% | Test loss: 0.12040, Test acc: 95.50%\n",
      "Epoch: 760 | Loss: 0.13022, Accuracy: 95.21% | Test loss: 0.11995, Test acc: 95.55%\n",
      "Epoch: 770 | Loss: 0.12989, Accuracy: 95.21% | Test loss: 0.11951, Test acc: 95.53%\n",
      "Epoch: 780 | Loss: 0.12958, Accuracy: 95.23% | Test loss: 0.11910, Test acc: 95.53%\n",
      "Epoch: 790 | Loss: 0.12929, Accuracy: 95.22% | Test loss: 0.11871, Test acc: 95.55%\n",
      "Epoch: 800 | Loss: 0.12901, Accuracy: 95.23% | Test loss: 0.11834, Test acc: 95.58%\n",
      "Epoch: 810 | Loss: 0.12875, Accuracy: 95.22% | Test loss: 0.11799, Test acc: 95.58%\n",
      "Epoch: 820 | Loss: 0.12850, Accuracy: 95.23% | Test loss: 0.11767, Test acc: 95.60%\n",
      "Epoch: 830 | Loss: 0.12880, Accuracy: 95.21% | Test loss: 0.11859, Test acc: 95.65%\n",
      "Epoch: 840 | Loss: 0.12861, Accuracy: 95.16% | Test loss: 0.11700, Test acc: 95.47%\n",
      "Epoch: 850 | Loss: 0.12786, Accuracy: 95.19% | Test loss: 0.11687, Test acc: 95.67%\n",
      "Epoch: 860 | Loss: 0.12767, Accuracy: 95.27% | Test loss: 0.11666, Test acc: 95.70%\n",
      "Epoch: 870 | Loss: 0.12747, Accuracy: 95.28% | Test loss: 0.11626, Test acc: 95.62%\n",
      "Epoch: 880 | Loss: 0.12725, Accuracy: 95.26% | Test loss: 0.11594, Test acc: 95.60%\n",
      "Epoch: 890 | Loss: 0.12706, Accuracy: 95.27% | Test loss: 0.11568, Test acc: 95.62%\n",
      "Epoch: 900 | Loss: 0.12687, Accuracy: 95.26% | Test loss: 0.11543, Test acc: 95.62%\n",
      "Epoch: 910 | Loss: 0.12668, Accuracy: 95.27% | Test loss: 0.11519, Test acc: 95.62%\n",
      "Epoch: 920 | Loss: 0.12650, Accuracy: 95.27% | Test loss: 0.11496, Test acc: 95.60%\n",
      "Epoch: 930 | Loss: 0.12631, Accuracy: 95.28% | Test loss: 0.11472, Test acc: 95.62%\n",
      "Epoch: 940 | Loss: 0.12612, Accuracy: 95.27% | Test loss: 0.11448, Test acc: 95.62%\n",
      "Epoch: 950 | Loss: 0.12592, Accuracy: 95.28% | Test loss: 0.11424, Test acc: 95.62%\n",
      "Epoch: 960 | Loss: 0.12572, Accuracy: 95.31% | Test loss: 0.11401, Test acc: 95.62%\n",
      "Epoch: 970 | Loss: 0.12551, Accuracy: 95.31% | Test loss: 0.11376, Test acc: 95.62%\n"
     ]
    },
    {
     "name": "stdout",
     "output_type": "stream",
     "text": [
      "Epoch: 980 | Loss: 0.12529, Accuracy: 95.34% | Test loss: 0.11351, Test acc: 95.67%\n",
      "Epoch: 990 | Loss: 0.12505, Accuracy: 95.35% | Test loss: 0.11325, Test acc: 95.67%\n"
     ]
    }
   ],
   "source": [
    "torch.manual_seed(42)\n",
    "\n",
    "epochs = 1000 # Train for longer\n",
    "\n",
    "# Put data to target device\n",
    "X_train, y_train = X_train.to(device), y_train.to(device)\n",
    "X_test, y_test = X_test.to(device), y_test.to(device)\n",
    "\n",
    "model.train()\n",
    "for epoch in range(epochs):\n",
    "    ### Training\n",
    "    # 1. Forward pass\n",
    "    y_logits = model(X_train)\n",
    "    y_pred = torch.round(torch.sigmoid(y_logits)) # logits -> predicition probabilities -> prediction labels\n",
    "\n",
    "    # 2. Calculate loss/accuracy\n",
    "    loss = loss_fn(y_logits, y_train)\n",
    "    acc = accuracy_fn(y_true=y_train, \n",
    "                      y_pred=y_pred)\n",
    "\n",
    "    # 3. Optimizer zero grad\n",
    "    optimizer.zero_grad()\n",
    "\n",
    "    # 4. Loss backwards\n",
    "    loss.backward()\n",
    "\n",
    "    # 5. Optimizer step\n",
    "    optimizer.step()\n",
    "\n",
    "    ### Testing\n",
    "    model.eval()\n",
    "    with torch.inference_mode():\n",
    "        # 1. Forward pass\n",
    "        test_logits = model(X_test)\n",
    "        test_pred = torch.round(torch.sigmoid(test_logits))\n",
    "        # 2. Caculate loss/accuracy\n",
    "        test_loss = loss_fn(test_logits,\n",
    "                            y_test)\n",
    "        test_acc = accuracy_fn(y_true=y_test,\n",
    "                               y_pred=test_pred)\n",
    "\n",
    "    # Print out what's happening every 10 epochs\n",
    "    if epoch % 10 == 0:\n",
    "        print(f\"Epoch: {epoch} | Loss: {loss:.5f}, Accuracy: {acc:.2f}% | Test loss: {test_loss:.5f}, Test acc: {test_acc:.2f}%\")\n"
   ]
  },
  {
   "cell_type": "code",
   "execution_count": 17,
   "id": "433ea879",
   "metadata": {},
   "outputs": [
    {
     "name": "stdout",
     "output_type": "stream",
     "text": [
      "Model saved in file\n"
     ]
    }
   ],
   "source": [
    "torch.save(model.state_dict(), os.path.join(\"model_0.pkl\"))\n",
    "print(\"Model saved in file\")"
   ]
  },
  {
   "cell_type": "code",
   "execution_count": 19,
   "id": "f6d16bbb",
   "metadata": {},
   "outputs": [
    {
     "name": "stdout",
     "output_type": "stream",
     "text": [
      "200\n",
      "195.0\n",
      "{'episode_rewards': [200.0, 200.0, 200.0, 200.0, 200.0, 200.0, 200.0, 200.0, 200.0, 200.0, 200.0, 200.0, 200.0, 200.0, 200.0, 200.0, 200.0, 200.0, 200.0, 200.0, 200.0, 200.0, 200.0, 200.0, 200.0, 200.0, 200.0, 200.0, 200.0, 200.0, 200.0, 200.0, 200.0, 200.0, 200.0, 200.0, 200.0, 200.0, 200.0, 200.0, 200.0, 200.0, 200.0, 200.0, 200.0, 200.0, 200.0, 200.0, 200.0, 200.0, 200.0, 200.0, 200.0, 200.0, 200.0, 200.0, 200.0, 200.0, 200.0, 200.0, 200.0, 200.0, 200.0, 200.0, 200.0, 200.0, 200.0, 200.0, 200.0, 200.0, 200.0, 200.0, 200.0, 200.0, 200.0, 200.0, 200.0, 200.0, 200.0, 200.0, 200.0, 200.0, 200.0, 200.0, 200.0, 200.0, 200.0, 200.0, 200.0, 200.0, 200.0, 200.0, 200.0, 200.0, 200.0, 200.0, 200.0, 200.0, 200.0, 200.0], 'mean': 200.0, 'std': 0.0}\n",
      "... finished\n"
     ]
    }
   ],
   "source": [
    "\n",
    "\n",
    "from __future__ import print_function\n",
    "\n",
    "from datetime import datetime\n",
    "import numpy as np\n",
    "import gym\n",
    "import os\n",
    "import json\n",
    "import torch\n",
    "\n",
    "\n",
    "def run_episode(env, agent, rendering=True, max_timesteps=1000):\n",
    "    \n",
    "    episode_reward = 0\n",
    "    step = 0\n",
    "\n",
    "    state = env.reset()\n",
    "    while True:\n",
    "\n",
    "#         get action\n",
    "        agent.eval()\n",
    "        tensor_state = torch.from_numpy(state)\n",
    "        tensor_action = agent(tensor_state)\n",
    "        a = torch.round(torch.sigmoid(tensor_action)).squeeze().to(torch.int).detach().numpy()\n",
    "#         a = np.random.randint(0, 1)\n",
    "        next_state, r, done, info = env.step(a)   \n",
    "        episode_reward += r       \n",
    "        state = next_state\n",
    "        step += 1\n",
    "#         print(step)\n",
    "        \n",
    "        if rendering:\n",
    "            env.render()\n",
    "\n",
    "        if done or step > max_timesteps: \n",
    "            break\n",
    "\n",
    "    return episode_reward\n",
    "\n",
    "\n",
    "if __name__ == \"__main__\":\n",
    "\n",
    "    # important: don't set rendering to False for evaluation (you may get corrupted state images from gym)\n",
    "    rendering = True                      \n",
    "    \n",
    "    n_test_episodes = 100                  # number of episodes to test\n",
    "\n",
    "    # load agent\n",
    "    agent = StateActionModel()\n",
    "    agent.load_state_dict(torch.load(\"model_0.pkl\"))\n",
    "\n",
    "    env = gym.make('CartPole-v0')\n",
    "    print(env.spec.max_episode_steps)\n",
    "    print(env.spec.reward_threshold)\n",
    "\n",
    "    episode_rewards = []\n",
    "    for i in range(n_test_episodes):\n",
    "        episode_reward = run_episode(env, agent, rendering=rendering)\n",
    "        episode_rewards.append(episode_reward)\n",
    "\n",
    "    # save results in a dictionary and write them into a .json file\n",
    "    results = dict()\n",
    "    results[\"episode_rewards\"] = episode_rewards\n",
    "    results[\"mean\"] = np.array(episode_rewards).mean()\n",
    "    results[\"std\"] = np.array(episode_rewards).std()\n",
    "    print(results)\n",
    "            \n",
    "    env.close()\n",
    "    print('... finished')"
   ]
  },
  {
   "cell_type": "code",
   "execution_count": null,
   "id": "0ce66027",
   "metadata": {},
   "outputs": [],
   "source": []
  }
 ],
 "metadata": {
  "kernelspec": {
   "display_name": "Python 3 (ipykernel)",
   "language": "python",
   "name": "python3"
  },
  "language_info": {
   "codemirror_mode": {
    "name": "ipython",
    "version": 3
   },
   "file_extension": ".py",
   "mimetype": "text/x-python",
   "name": "python",
   "nbconvert_exporter": "python",
   "pygments_lexer": "ipython3",
   "version": "3.8.13"
  }
 },
 "nbformat": 4,
 "nbformat_minor": 5
}
