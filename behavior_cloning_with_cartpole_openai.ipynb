{
 "cells": [
  {
   "cell_type": "code",
   "execution_count": 1,
   "id": "835bb27d",
   "metadata": {},
   "outputs": [],
   "source": [
    "import numpy as np\n",
    "import os\n",
    "import torch\n",
    "import torch.nn as nn\n",
    "import torch.nn.functional as F\n",
    "import torch.optim as optim\n",
    "from torch.autograd import Variable"
   ]
  },
  {
   "cell_type": "code",
   "execution_count": 2,
   "id": "1ad98743",
   "metadata": {},
   "outputs": [],
   "source": [
    "# Function to read expert data\n",
    "\n",
    "def read_data(datasets_dir=\"./data\", frac = 0.1):\n",
    "    print(\"... read data\")\n",
    "    data_file = os.path.join(datasets_dir, 'transitions.pkl')\n",
    "    data = np.load(data_file, allow_pickle=True)\n",
    "    \n",
    "    X = []\n",
    "    y = []\n",
    "    \n",
    "    for i in range(len(data)):\n",
    "        for j in range(len(data[i])):\n",
    "            X.append(data[i][j][0])\n",
    "            y.append(data[i][j][1])\n",
    "\n",
    "    states = torch.cat(X).to(torch.float32)\n",
    "    actions = torch.cat(y).to(torch.float32)\n",
    "    print(states.shape)\n",
    "    print(actions.shape)    \n",
    "    return states, actions"
   ]
  },
  {
   "cell_type": "code",
   "execution_count": 3,
   "id": "5002b820",
   "metadata": {},
   "outputs": [
    {
     "name": "stdout",
     "output_type": "stream",
     "text": [
      "... read data\n",
      "torch.Size([20000, 4])\n",
      "torch.Size([20000, 1])\n",
      "States: tensor([[-0.0227,  0.0431,  0.0228, -0.0495],\n",
      "        [-0.0218, -0.1524,  0.0218,  0.2503],\n",
      "        [-0.0249,  0.0424,  0.0268, -0.0354],\n",
      "        ...,\n",
      "        [-0.0908, -0.2321, -0.0044,  0.3062],\n",
      "        [-0.0954, -0.0369,  0.0017,  0.0121],\n",
      "        [-0.0962,  0.1581,  0.0020, -0.2801]]), Actions: tensor([[0.],\n",
      "        [1.],\n",
      "        [1.],\n",
      "        ...,\n",
      "        [1.],\n",
      "        [1.],\n",
      "        [0.]])\n"
     ]
    }
   ],
   "source": [
    "# read data \n",
    "\n",
    "states, actions = read_data()\n",
    "print(f\"States: {states}, Actions: {actions}\")\n",
    "\n"
   ]
  },
  {
   "cell_type": "code",
   "execution_count": 4,
   "id": "72758181",
   "metadata": {},
   "outputs": [
    {
     "data": {
      "text/html": [
       "<div>\n",
       "<style scoped>\n",
       "    .dataframe tbody tr th:only-of-type {\n",
       "        vertical-align: middle;\n",
       "    }\n",
       "\n",
       "    .dataframe tbody tr th {\n",
       "        vertical-align: top;\n",
       "    }\n",
       "\n",
       "    .dataframe thead th {\n",
       "        text-align: right;\n",
       "    }\n",
       "</style>\n",
       "<table border=\"1\" class=\"dataframe\">\n",
       "  <thead>\n",
       "    <tr style=\"text-align: right;\">\n",
       "      <th></th>\n",
       "      <th>X1</th>\n",
       "      <th>X2</th>\n",
       "      <th>X3</th>\n",
       "      <th>X4</th>\n",
       "      <th>action</th>\n",
       "    </tr>\n",
       "  </thead>\n",
       "  <tbody>\n",
       "    <tr>\n",
       "      <th>0</th>\n",
       "      <td>-0.022675</td>\n",
       "      <td>0.043077</td>\n",
       "      <td>0.022810</td>\n",
       "      <td>-0.049454</td>\n",
       "      <td>0.0</td>\n",
       "    </tr>\n",
       "    <tr>\n",
       "      <th>1</th>\n",
       "      <td>-0.021814</td>\n",
       "      <td>-0.152365</td>\n",
       "      <td>0.021821</td>\n",
       "      <td>0.250337</td>\n",
       "      <td>1.0</td>\n",
       "    </tr>\n",
       "    <tr>\n",
       "      <th>2</th>\n",
       "      <td>-0.024861</td>\n",
       "      <td>0.042439</td>\n",
       "      <td>0.026827</td>\n",
       "      <td>-0.035384</td>\n",
       "      <td>1.0</td>\n",
       "    </tr>\n",
       "    <tr>\n",
       "      <th>3</th>\n",
       "      <td>-0.024012</td>\n",
       "      <td>0.237166</td>\n",
       "      <td>0.026120</td>\n",
       "      <td>-0.319483</td>\n",
       "      <td>0.0</td>\n",
       "    </tr>\n",
       "    <tr>\n",
       "      <th>4</th>\n",
       "      <td>-0.019269</td>\n",
       "      <td>0.041682</td>\n",
       "      <td>0.019730</td>\n",
       "      <td>-0.018679</td>\n",
       "      <td>1.0</td>\n",
       "    </tr>\n",
       "    <tr>\n",
       "      <th>5</th>\n",
       "      <td>-0.018435</td>\n",
       "      <td>0.236516</td>\n",
       "      <td>0.019357</td>\n",
       "      <td>-0.305072</td>\n",
       "      <td>0.0</td>\n",
       "    </tr>\n",
       "    <tr>\n",
       "      <th>6</th>\n",
       "      <td>-0.013705</td>\n",
       "      <td>0.041123</td>\n",
       "      <td>0.013255</td>\n",
       "      <td>-0.006348</td>\n",
       "      <td>1.0</td>\n",
       "    </tr>\n",
       "    <tr>\n",
       "      <th>7</th>\n",
       "      <td>-0.012882</td>\n",
       "      <td>0.236053</td>\n",
       "      <td>0.013128</td>\n",
       "      <td>-0.294820</td>\n",
       "      <td>0.0</td>\n",
       "    </tr>\n",
       "    <tr>\n",
       "      <th>8</th>\n",
       "      <td>-0.008161</td>\n",
       "      <td>0.040746</td>\n",
       "      <td>0.007232</td>\n",
       "      <td>0.001975</td>\n",
       "      <td>1.0</td>\n",
       "    </tr>\n",
       "    <tr>\n",
       "      <th>9</th>\n",
       "      <td>-0.007346</td>\n",
       "      <td>0.235764</td>\n",
       "      <td>0.007271</td>\n",
       "      <td>-0.288418</td>\n",
       "      <td>0.0</td>\n",
       "    </tr>\n",
       "  </tbody>\n",
       "</table>\n",
       "</div>"
      ],
      "text/plain": [
       "         X1        X2        X3        X4  action\n",
       "0 -0.022675  0.043077  0.022810 -0.049454     0.0\n",
       "1 -0.021814 -0.152365  0.021821  0.250337     1.0\n",
       "2 -0.024861  0.042439  0.026827 -0.035384     1.0\n",
       "3 -0.024012  0.237166  0.026120 -0.319483     0.0\n",
       "4 -0.019269  0.041682  0.019730 -0.018679     1.0\n",
       "5 -0.018435  0.236516  0.019357 -0.305072     0.0\n",
       "6 -0.013705  0.041123  0.013255 -0.006348     1.0\n",
       "7 -0.012882  0.236053  0.013128 -0.294820     0.0\n",
       "8 -0.008161  0.040746  0.007232  0.001975     1.0\n",
       "9 -0.007346  0.235764  0.007271 -0.288418     0.0"
      ]
     },
     "execution_count": 4,
     "metadata": {},
     "output_type": "execute_result"
    }
   ],
   "source": [
    "# Visualize the data as panda's data frame\n",
    "\n",
    "import pandas as pd\n",
    "data= pd.DataFrame({\"X1\": states[:, 0], \"X2\": states[:, 1], \"X3\": states[:, 2], \"X4\": states[:, 3], \"action\": actions.flatten()})\n",
    "\n",
    "\n",
    "data.head(10)"
   ]
  },
  {
   "cell_type": "code",
   "execution_count": 5,
   "id": "184bdae6",
   "metadata": {},
   "outputs": [
    {
     "data": {
      "text/plain": [
       "0.0    10004\n",
       "1.0     9996\n",
       "Name: action, dtype: int64"
      ]
     },
     "execution_count": 5,
     "metadata": {},
     "output_type": "execute_result"
    }
   ],
   "source": [
    "data.action.value_counts()"
   ]
  },
  {
   "cell_type": "code",
   "execution_count": 6,
   "id": "e3b9e1e3",
   "metadata": {},
   "outputs": [
    {
     "name": "stdout",
     "output_type": "stream",
     "text": [
      "torch.Size([16000, 4])\n",
      "torch.Size([16000, 1])\n",
      "torch.Size([4000, 4])\n",
      "torch.Size([4000, 1])\n"
     ]
    }
   ],
   "source": [
    "from sklearn.model_selection import train_test_split\n",
    "\n",
    "\n",
    "\n",
    "X_train, X_test, y_train, y_test = train_test_split(states, actions, test_size=0.2, random_state=42)\n",
    "\n",
    "len(X_train), len(X_test), len(y_train), len(y_test)\n",
    "\n",
    "print(X_train.shape)\n",
    "print(y_train.shape)\n",
    "print(X_test.shape)\n",
    "print(y_test.shape)"
   ]
  },
  {
   "cell_type": "code",
   "execution_count": 7,
   "id": "dc591932",
   "metadata": {},
   "outputs": [
    {
     "data": {
      "text/plain": [
       "'cuda'"
      ]
     },
     "execution_count": 7,
     "metadata": {},
     "output_type": "execute_result"
    }
   ],
   "source": [
    "import torch\n",
    "from torch import nn\n",
    "\n",
    "device = \"cuda\" if torch.cuda.is_available() else \"cpu\"\n",
    "\n",
    "device"
   ]
  },
  {
   "cell_type": "code",
   "execution_count": 8,
   "id": "868616b7",
   "metadata": {},
   "outputs": [],
   "source": [
    "class StateActionModel(nn.Module):\n",
    "\n",
    "    def __init__(self,\n",
    "                 input_size: int = 4,\n",
    "                 hiddenLayer1_size: int = 128,\n",
    "                 hiddenLayer2_size: int = 128,\n",
    "                 output_size: int = 1) -> None: \n",
    "        \n",
    "        super(StateActionModel, self).__init__()\n",
    "        self.hiddenLayer1 = nn.Linear(in_features= input_size,\n",
    "                             out_features= hiddenLayer1_size)\n",
    "        self.hiddenLayer2 = nn.Linear(in_features= hiddenLayer1_size,\n",
    "                             out_features= hiddenLayer2_size)\n",
    "        self.output = nn.Linear(in_features= hiddenLayer2_size,\n",
    "                             out_features= output_size)        \n",
    "    def forward(self, x):\n",
    "        x = F.relu(self.hiddenLayer1(x))\n",
    "        x = F.relu(self.hiddenLayer2(x))\n",
    "        x = self.output(x)\n",
    "        return x"
   ]
  },
  {
   "cell_type": "code",
   "execution_count": 9,
   "id": "43e8cb47",
   "metadata": {},
   "outputs": [
    {
     "data": {
      "text/plain": [
       "StateActionModel(\n",
       "  (hiddenLayer1): Linear(in_features=4, out_features=128, bias=True)\n",
       "  (hiddenLayer2): Linear(in_features=128, out_features=128, bias=True)\n",
       "  (output): Linear(in_features=128, out_features=1, bias=True)\n",
       ")"
      ]
     },
     "execution_count": 9,
     "metadata": {},
     "output_type": "execute_result"
    }
   ],
   "source": [
    "model = StateActionModel().to(device)\n",
    "model"
   ]
  },
  {
   "cell_type": "code",
   "execution_count": 10,
   "id": "e8c0b0ca",
   "metadata": {},
   "outputs": [
    {
     "name": "stdout",
     "output_type": "stream",
     "text": [
      "Length of predictions: 4000, Shape: torch.Size([4000, 1])\n",
      "Length of test samples: 4000, Shape: torch.Size([4000, 1])\n",
      "\n",
      "First 10 predictions:\n",
      "tensor([[-0.0623],\n",
      "        [-0.0547],\n",
      "        [-0.0653],\n",
      "        [-0.0640],\n",
      "        [-0.0608],\n",
      "        [-0.0794],\n",
      "        [-0.0617],\n",
      "        [-0.0611],\n",
      "        [-0.0679],\n",
      "        [-0.0590]], device='cuda:0', grad_fn=<SliceBackward0>)\n",
      "\n",
      "First 10 test labels:\n",
      "tensor([[1.],\n",
      "        [1.],\n",
      "        [1.],\n",
      "        [0.],\n",
      "        [0.],\n",
      "        [0.],\n",
      "        [1.],\n",
      "        [0.],\n",
      "        [0.],\n",
      "        [1.]])\n"
     ]
    }
   ],
   "source": [
    "# Make predictions with the model\n",
    "untrained_preds = model(X_test.to(device))\n",
    "print(f\"Length of predictions: {len(untrained_preds)}, Shape: {untrained_preds.shape}\")\n",
    "print(f\"Length of test samples: {len(y_test)}, Shape: {y_test.shape}\")\n",
    "print(f\"\\nFirst 10 predictions:\\n{untrained_preds[:10]}\")\n",
    "print(f\"\\nFirst 10 test labels:\\n{y_test[:10]}\")"
   ]
  },
  {
   "cell_type": "code",
   "execution_count": 11,
   "id": "47d240bb",
   "metadata": {},
   "outputs": [],
   "source": [
    "# Create a loss function\n",
    "# loss_fn = nn.BCELoss() # BCELoss = no sigmoid built-in\n",
    "loss_fn = nn.BCEWithLogitsLoss() # BCEWithLogitsLoss = sigmoid built-in\n",
    "\n",
    "# Create an optimizer\n",
    "optimizer = torch.optim.SGD(params=model.parameters(), \n",
    "                            lr=0.001)"
   ]
  },
  {
   "cell_type": "code",
   "execution_count": 12,
   "id": "7d38b894",
   "metadata": {},
   "outputs": [],
   "source": [
    "# Calculate accuracy (a classification metric)\n",
    "def accuracy_fn(y_true, y_pred):\n",
    "    correct = torch.eq(y_true, y_pred).sum().item() # torch.eq() calculates where two tensors are equal\n",
    "    acc = (correct / len(y_pred)) * 100 \n",
    "    return acc"
   ]
  },
  {
   "cell_type": "code",
   "execution_count": 13,
   "id": "4006fa0a",
   "metadata": {},
   "outputs": [
    {
     "data": {
      "text/plain": [
       "tensor([[-0.0623],\n",
       "        [-0.0547],\n",
       "        [-0.0653],\n",
       "        ...,\n",
       "        [-0.1163],\n",
       "        [-0.0594],\n",
       "        [-0.0664]], device='cuda:0', grad_fn=<AddmmBackward0>)"
      ]
     },
     "execution_count": 13,
     "metadata": {},
     "output_type": "execute_result"
    }
   ],
   "source": [
    "# View the frist 5 outputs of the forward pass on the test data\n",
    "y_logits = model(X_test.to(device))\n",
    "y_logits"
   ]
  },
  {
   "cell_type": "code",
   "execution_count": 14,
   "id": "1da2e0e8",
   "metadata": {},
   "outputs": [
    {
     "name": "stdout",
     "output_type": "stream",
     "text": [
      "predictions: tensor([[-0.],\n",
      "        [-0.],\n",
      "        [-0.],\n",
      "        ...,\n",
      "        [-0.],\n",
      "        [-0.],\n",
      "        [-0.]], device='cuda:0', grad_fn=<RoundBackward0>)\n",
      "tensor([True, True, True,  ..., True, True, True], device='cuda:0')\n"
     ]
    },
    {
     "data": {
      "text/plain": [
       "tensor([-0., -0., -0.,  ..., -0., -0., -0.], device='cuda:0',\n",
       "       grad_fn=<SqueezeBackward0>)"
      ]
     },
     "execution_count": 14,
     "metadata": {},
     "output_type": "execute_result"
    }
   ],
   "source": [
    "# Find the predicted labels (round the prediction probabilities)\n",
    "y_preds = torch.round(y_logits)\n",
    "print(f\"predictions: {y_preds}\")\n",
    "\n",
    "# In full\n",
    "y_pred_labels = torch.round((model(X_test.to(device))))\n",
    "\n",
    "# Check for equality\n",
    "print(torch.eq(y_preds.squeeze(), y_pred_labels.squeeze()))\n",
    "\n",
    "# Get rid of extra dimension\n",
    "y_preds.squeeze()"
   ]
  },
  {
   "cell_type": "code",
   "execution_count": 15,
   "id": "89387d35",
   "metadata": {},
   "outputs": [
    {
     "data": {
      "text/plain": [
       "tensor([[1.],\n",
       "        [1.],\n",
       "        [1.],\n",
       "        ...,\n",
       "        [1.],\n",
       "        [0.],\n",
       "        [1.]])"
      ]
     },
     "execution_count": 15,
     "metadata": {},
     "output_type": "execute_result"
    }
   ],
   "source": [
    "y_test"
   ]
  },
  {
   "cell_type": "code",
   "execution_count": 19,
   "id": "32b02bcb",
   "metadata": {},
   "outputs": [
    {
     "name": "stdout",
     "output_type": "stream",
     "text": [
      "Epoch: 0 | Loss: 0.41969, Accuracy: 80.16% | Test loss: 0.42026, Test acc: 80.47%\n",
      "Epoch: 100 | Loss: 0.41758, Accuracy: 80.15% | Test loss: 0.41814, Test acc: 80.50%\n",
      "Epoch: 200 | Loss: 0.41553, Accuracy: 80.12% | Test loss: 0.41608, Test acc: 80.53%\n",
      "Epoch: 300 | Loss: 0.41353, Accuracy: 80.13% | Test loss: 0.41406, Test acc: 80.53%\n",
      "Epoch: 400 | Loss: 0.41157, Accuracy: 80.12% | Test loss: 0.41210, Test acc: 80.55%\n",
      "Epoch: 500 | Loss: 0.40967, Accuracy: 80.09% | Test loss: 0.41019, Test acc: 80.55%\n",
      "Epoch: 600 | Loss: 0.40782, Accuracy: 80.10% | Test loss: 0.40833, Test acc: 80.47%\n",
      "Epoch: 700 | Loss: 0.40602, Accuracy: 80.12% | Test loss: 0.40652, Test acc: 80.42%\n",
      "Epoch: 800 | Loss: 0.40426, Accuracy: 80.12% | Test loss: 0.40476, Test acc: 80.42%\n",
      "Epoch: 900 | Loss: 0.40255, Accuracy: 80.12% | Test loss: 0.40304, Test acc: 80.42%\n",
      "Epoch: 1000 | Loss: 0.40089, Accuracy: 80.11% | Test loss: 0.40137, Test acc: 80.42%\n",
      "Epoch: 1100 | Loss: 0.39927, Accuracy: 80.16% | Test loss: 0.39975, Test acc: 80.47%\n",
      "Epoch: 1200 | Loss: 0.39770, Accuracy: 80.16% | Test loss: 0.39816, Test acc: 80.50%\n",
      "Epoch: 1300 | Loss: 0.39617, Accuracy: 80.14% | Test loss: 0.39662, Test acc: 80.53%\n",
      "Epoch: 1400 | Loss: 0.39468, Accuracy: 80.16% | Test loss: 0.39513, Test acc: 80.53%\n",
      "Epoch: 1500 | Loss: 0.39323, Accuracy: 80.19% | Test loss: 0.39367, Test acc: 80.50%\n",
      "Epoch: 1600 | Loss: 0.39182, Accuracy: 80.21% | Test loss: 0.39225, Test acc: 80.47%\n",
      "Epoch: 1700 | Loss: 0.39045, Accuracy: 80.20% | Test loss: 0.39088, Test acc: 80.58%\n",
      "Epoch: 1800 | Loss: 0.38911, Accuracy: 80.20% | Test loss: 0.38954, Test acc: 80.60%\n",
      "Epoch: 1900 | Loss: 0.38782, Accuracy: 80.21% | Test loss: 0.38823, Test acc: 80.60%\n",
      "Epoch: 2000 | Loss: 0.38656, Accuracy: 80.19% | Test loss: 0.38697, Test acc: 80.60%\n",
      "Epoch: 2100 | Loss: 0.38533, Accuracy: 80.16% | Test loss: 0.38574, Test acc: 80.62%\n",
      "Epoch: 2200 | Loss: 0.38414, Accuracy: 80.16% | Test loss: 0.38454, Test acc: 80.62%\n",
      "Epoch: 2300 | Loss: 0.38298, Accuracy: 80.16% | Test loss: 0.38337, Test acc: 80.60%\n",
      "Epoch: 2400 | Loss: 0.38185, Accuracy: 80.17% | Test loss: 0.38224, Test acc: 80.62%\n",
      "Epoch: 2500 | Loss: 0.38076, Accuracy: 80.17% | Test loss: 0.38114, Test acc: 80.62%\n",
      "Epoch: 2600 | Loss: 0.37969, Accuracy: 80.19% | Test loss: 0.38007, Test acc: 80.62%\n",
      "Epoch: 2700 | Loss: 0.37866, Accuracy: 80.18% | Test loss: 0.37903, Test acc: 80.65%\n",
      "Epoch: 2800 | Loss: 0.37765, Accuracy: 80.19% | Test loss: 0.37801, Test acc: 80.65%\n",
      "Epoch: 2900 | Loss: 0.37667, Accuracy: 80.19% | Test loss: 0.37703, Test acc: 80.67%\n",
      "Epoch: 3000 | Loss: 0.37571, Accuracy: 80.17% | Test loss: 0.37607, Test acc: 80.70%\n",
      "Epoch: 3100 | Loss: 0.37479, Accuracy: 80.19% | Test loss: 0.37514, Test acc: 80.73%\n",
      "Epoch: 3200 | Loss: 0.37389, Accuracy: 80.18% | Test loss: 0.37423, Test acc: 80.70%\n",
      "Epoch: 3300 | Loss: 0.37301, Accuracy: 80.17% | Test loss: 0.37335, Test acc: 80.70%\n",
      "Epoch: 3400 | Loss: 0.37215, Accuracy: 80.19% | Test loss: 0.37249, Test acc: 80.70%\n",
      "Epoch: 3500 | Loss: 0.37132, Accuracy: 80.19% | Test loss: 0.37166, Test acc: 80.70%\n",
      "Epoch: 3600 | Loss: 0.37052, Accuracy: 80.19% | Test loss: 0.37085, Test acc: 80.67%\n",
      "Epoch: 3700 | Loss: 0.36973, Accuracy: 80.19% | Test loss: 0.37006, Test acc: 80.67%\n",
      "Epoch: 3800 | Loss: 0.36896, Accuracy: 80.19% | Test loss: 0.36929, Test acc: 80.65%\n",
      "Epoch: 3900 | Loss: 0.36822, Accuracy: 80.19% | Test loss: 0.36854, Test acc: 80.70%\n",
      "Epoch: 4000 | Loss: 0.36749, Accuracy: 80.19% | Test loss: 0.36781, Test acc: 80.67%\n",
      "Epoch: 4100 | Loss: 0.36679, Accuracy: 80.21% | Test loss: 0.36710, Test acc: 80.67%\n",
      "Epoch: 4200 | Loss: 0.36610, Accuracy: 80.23% | Test loss: 0.36641, Test acc: 80.67%\n",
      "Epoch: 4300 | Loss: 0.36543, Accuracy: 80.21% | Test loss: 0.36574, Test acc: 80.67%\n",
      "Epoch: 4400 | Loss: 0.36478, Accuracy: 80.21% | Test loss: 0.36509, Test acc: 80.67%\n",
      "Epoch: 4500 | Loss: 0.36415, Accuracy: 80.21% | Test loss: 0.36445, Test acc: 80.70%\n",
      "Epoch: 4600 | Loss: 0.36353, Accuracy: 80.19% | Test loss: 0.36383, Test acc: 80.73%\n",
      "Epoch: 4700 | Loss: 0.36293, Accuracy: 80.19% | Test loss: 0.36323, Test acc: 80.73%\n",
      "Epoch: 4800 | Loss: 0.36234, Accuracy: 80.19% | Test loss: 0.36264, Test acc: 80.75%\n",
      "Epoch: 4900 | Loss: 0.36177, Accuracy: 80.19% | Test loss: 0.36207, Test acc: 80.77%\n",
      "Epoch: 5000 | Loss: 0.36121, Accuracy: 80.19% | Test loss: 0.36151, Test acc: 80.77%\n",
      "Epoch: 5100 | Loss: 0.36067, Accuracy: 80.20% | Test loss: 0.36096, Test acc: 80.75%\n",
      "Epoch: 5200 | Loss: 0.36014, Accuracy: 80.21% | Test loss: 0.36043, Test acc: 80.73%\n",
      "Epoch: 5300 | Loss: 0.35963, Accuracy: 80.19% | Test loss: 0.35992, Test acc: 80.73%\n",
      "Epoch: 5400 | Loss: 0.35912, Accuracy: 80.19% | Test loss: 0.35941, Test acc: 80.73%\n",
      "Epoch: 5500 | Loss: 0.35863, Accuracy: 80.17% | Test loss: 0.35892, Test acc: 80.75%\n",
      "Epoch: 5600 | Loss: 0.35816, Accuracy: 80.19% | Test loss: 0.35844, Test acc: 80.73%\n",
      "Epoch: 5700 | Loss: 0.35769, Accuracy: 80.21% | Test loss: 0.35798, Test acc: 80.73%\n",
      "Epoch: 5800 | Loss: 0.35724, Accuracy: 80.19% | Test loss: 0.35752, Test acc: 80.73%\n",
      "Epoch: 5900 | Loss: 0.35679, Accuracy: 80.18% | Test loss: 0.35708, Test acc: 80.73%\n",
      "Epoch: 6000 | Loss: 0.35636, Accuracy: 80.18% | Test loss: 0.35664, Test acc: 80.73%\n",
      "Epoch: 6100 | Loss: 0.35594, Accuracy: 80.19% | Test loss: 0.35622, Test acc: 80.70%\n",
      "Epoch: 6200 | Loss: 0.35553, Accuracy: 80.18% | Test loss: 0.35581, Test acc: 80.73%\n",
      "Epoch: 6300 | Loss: 0.35513, Accuracy: 80.21% | Test loss: 0.35541, Test acc: 80.75%\n",
      "Epoch: 6400 | Loss: 0.35473, Accuracy: 80.21% | Test loss: 0.35501, Test acc: 80.75%\n",
      "Epoch: 6500 | Loss: 0.35435, Accuracy: 80.21% | Test loss: 0.35463, Test acc: 80.77%\n",
      "Epoch: 6600 | Loss: 0.35398, Accuracy: 80.21% | Test loss: 0.35425, Test acc: 80.77%\n",
      "Epoch: 6700 | Loss: 0.35361, Accuracy: 80.21% | Test loss: 0.35389, Test acc: 80.77%\n",
      "Epoch: 6800 | Loss: 0.35326, Accuracy: 80.20% | Test loss: 0.35353, Test acc: 80.77%\n",
      "Epoch: 6900 | Loss: 0.35291, Accuracy: 80.20% | Test loss: 0.35318, Test acc: 80.77%\n",
      "Epoch: 7000 | Loss: 0.35257, Accuracy: 80.23% | Test loss: 0.35284, Test acc: 80.77%\n",
      "Epoch: 7100 | Loss: 0.35224, Accuracy: 80.21% | Test loss: 0.35251, Test acc: 80.77%\n",
      "Epoch: 7200 | Loss: 0.35191, Accuracy: 80.21% | Test loss: 0.35219, Test acc: 80.75%\n",
      "Epoch: 7300 | Loss: 0.35159, Accuracy: 80.21% | Test loss: 0.35187, Test acc: 80.75%\n",
      "Epoch: 7400 | Loss: 0.35128, Accuracy: 80.21% | Test loss: 0.35156, Test acc: 80.73%\n",
      "Epoch: 7500 | Loss: 0.35098, Accuracy: 80.22% | Test loss: 0.35126, Test acc: 80.73%\n",
      "Epoch: 7600 | Loss: 0.35069, Accuracy: 80.23% | Test loss: 0.35096, Test acc: 80.73%\n",
      "Epoch: 7700 | Loss: 0.35040, Accuracy: 80.23% | Test loss: 0.35067, Test acc: 80.70%\n",
      "Epoch: 7800 | Loss: 0.35011, Accuracy: 80.23% | Test loss: 0.35039, Test acc: 80.70%\n",
      "Epoch: 7900 | Loss: 0.34984, Accuracy: 80.24% | Test loss: 0.35011, Test acc: 80.70%\n",
      "Epoch: 8000 | Loss: 0.34957, Accuracy: 80.21% | Test loss: 0.34984, Test acc: 80.67%\n",
      "Epoch: 8100 | Loss: 0.34930, Accuracy: 80.22% | Test loss: 0.34958, Test acc: 80.67%\n",
      "Epoch: 8200 | Loss: 0.34904, Accuracy: 80.21% | Test loss: 0.34932, Test acc: 80.67%\n",
      "Epoch: 8300 | Loss: 0.34879, Accuracy: 80.21% | Test loss: 0.34907, Test acc: 80.70%\n",
      "Epoch: 8400 | Loss: 0.34854, Accuracy: 80.19% | Test loss: 0.34882, Test acc: 80.67%\n",
      "Epoch: 8500 | Loss: 0.34830, Accuracy: 80.21% | Test loss: 0.34858, Test acc: 80.67%\n",
      "Epoch: 8600 | Loss: 0.34806, Accuracy: 80.21% | Test loss: 0.34834, Test acc: 80.65%\n",
      "Epoch: 8700 | Loss: 0.34783, Accuracy: 80.23% | Test loss: 0.34811, Test acc: 80.65%\n",
      "Epoch: 8800 | Loss: 0.34760, Accuracy: 80.23% | Test loss: 0.34788, Test acc: 80.65%\n",
      "Epoch: 8900 | Loss: 0.34738, Accuracy: 80.24% | Test loss: 0.34766, Test acc: 80.65%\n",
      "Epoch: 9000 | Loss: 0.34716, Accuracy: 80.24% | Test loss: 0.34744, Test acc: 80.65%\n",
      "Epoch: 9100 | Loss: 0.34695, Accuracy: 80.23% | Test loss: 0.34723, Test acc: 80.67%\n",
      "Epoch: 9200 | Loss: 0.34674, Accuracy: 80.23% | Test loss: 0.34702, Test acc: 80.67%\n",
      "Epoch: 9300 | Loss: 0.34654, Accuracy: 80.23% | Test loss: 0.34682, Test acc: 80.62%\n",
      "Epoch: 9400 | Loss: 0.34634, Accuracy: 80.23% | Test loss: 0.34662, Test acc: 80.62%\n",
      "Epoch: 9500 | Loss: 0.34614, Accuracy: 80.23% | Test loss: 0.34642, Test acc: 80.62%\n",
      "Epoch: 9600 | Loss: 0.34595, Accuracy: 80.23% | Test loss: 0.34623, Test acc: 80.62%\n"
     ]
    },
    {
     "name": "stdout",
     "output_type": "stream",
     "text": [
      "Epoch: 9700 | Loss: 0.34576, Accuracy: 80.24% | Test loss: 0.34604, Test acc: 80.60%\n",
      "Epoch: 9800 | Loss: 0.34558, Accuracy: 80.25% | Test loss: 0.34586, Test acc: 80.60%\n",
      "Epoch: 9900 | Loss: 0.34540, Accuracy: 80.25% | Test loss: 0.34568, Test acc: 80.58%\n"
     ]
    }
   ],
   "source": [
    "torch.manual_seed(42)\n",
    "\n",
    "epochs = 10000 # Train for longer\n",
    "\n",
    "# Put data to target device\n",
    "X_train, y_train = X_train.to(device), y_train.to(device)\n",
    "X_test, y_test = X_test.to(device), y_test.to(device)\n",
    "\n",
    "model.train()\n",
    "for epoch in range(epochs):\n",
    "    ### Training\n",
    "    # 1. Forward pass\n",
    "    y_logits = model(X_train)\n",
    "    y_pred = torch.round(torch.sigmoid(y_logits)) # logits -> predicition probabilities -> prediction labels\n",
    "\n",
    "    # 2. Calculate loss/accuracy\n",
    "    loss = loss_fn(y_logits, y_train)\n",
    "    acc = accuracy_fn(y_true=y_train, \n",
    "                      y_pred=y_pred)\n",
    "\n",
    "    # 3. Optimizer zero grad\n",
    "    optimizer.zero_grad()\n",
    "\n",
    "    # 4. Loss backwards\n",
    "    loss.backward()\n",
    "\n",
    "    # 5. Optimizer step\n",
    "    optimizer.step()\n",
    "\n",
    "    ### Testing\n",
    "    model.eval()\n",
    "    with torch.inference_mode():\n",
    "        # 1. Forward pass\n",
    "        test_logits = model(X_test)\n",
    "        test_pred = torch.round(torch.sigmoid(test_logits))\n",
    "        # 2. Caculate loss/accuracy\n",
    "        test_loss = loss_fn(test_logits,\n",
    "                            y_test)\n",
    "        test_acc = accuracy_fn(y_true=y_test,\n",
    "                               y_pred=test_pred)\n",
    "\n",
    "    # Print out what's happening every 10 epochs\n",
    "    if epoch % 100 == 0:\n",
    "        print(f\"Epoch: {epoch} | Loss: {loss:.5f}, Accuracy: {acc:.2f}% | Test loss: {test_loss:.5f}, Test acc: {test_acc:.2f}%\")\n"
   ]
  },
  {
   "cell_type": "code",
   "execution_count": 17,
   "id": "433ea879",
   "metadata": {},
   "outputs": [
    {
     "name": "stdout",
     "output_type": "stream",
     "text": [
      "Model saved in file\n"
     ]
    }
   ],
   "source": [
    "torch.save(model.state_dict(), os.path.join(\"model_0.pkl\"))\n",
    "print(\"Model saved in file\")"
   ]
  },
  {
   "cell_type": "code",
   "execution_count": 20,
   "id": "f6d16bbb",
   "metadata": {},
   "outputs": [
    {
     "name": "stdout",
     "output_type": "stream",
     "text": [
      "{'episode_rewards': [79.0, 55.0, 66.0, 55.0, 85.0, 57.0, 89.0, 58.0, 72.0, 109.0, 117.0, 81.0, 54.0, 104.0, 104.0, 58.0, 98.0, 158.0, 54.0, 96.0, 60.0, 66.0, 57.0, 100.0, 82.0, 70.0, 80.0, 96.0, 142.0, 68.0, 81.0, 54.0, 87.0, 57.0, 76.0, 73.0, 78.0, 87.0, 56.0, 85.0, 67.0, 125.0, 48.0, 52.0, 52.0, 86.0, 106.0, 65.0, 75.0, 120.0, 64.0, 68.0, 133.0, 95.0, 83.0, 62.0, 91.0, 72.0, 50.0, 58.0, 98.0, 77.0, 84.0, 98.0, 72.0, 59.0, 113.0, 95.0, 110.0, 110.0, 144.0, 103.0, 61.0, 77.0, 73.0, 124.0, 68.0, 89.0, 50.0, 59.0, 89.0, 70.0, 91.0, 58.0, 58.0, 52.0, 99.0, 51.0, 68.0, 91.0, 74.0, 114.0, 85.0, 67.0, 56.0, 74.0, 92.0, 107.0, 78.0, 50.0], 'mean': 80.64, 'std': 23.47701855006295}\n",
      "... finished\n"
     ]
    }
   ],
   "source": [
    "\n",
    "\n",
    "from __future__ import print_function\n",
    "\n",
    "from datetime import datetime\n",
    "import numpy as np\n",
    "import gym\n",
    "import os\n",
    "import json\n",
    "import torch\n",
    "\n",
    "\n",
    "def run_episode(env, agent, rendering=True, max_timesteps=1000):\n",
    "    \n",
    "    episode_reward = 0\n",
    "    step = 0\n",
    "\n",
    "    state = env.reset()\n",
    "    while True:\n",
    "\n",
    "#         get action\n",
    "        agent.eval()\n",
    "        tensor_state = torch.from_numpy(state)\n",
    "        tensor_action = agent(tensor_state)\n",
    "        a = torch.round(torch.sigmoid(tensor_action)).squeeze().to(torch.int).detach().numpy()\n",
    "#         a = np.random.randint(0, 1)\n",
    "        next_state, r, done, info = env.step(a)   \n",
    "        episode_reward += r       \n",
    "        state = next_state\n",
    "        step += 1\n",
    "        \n",
    "        if rendering:\n",
    "            env.render()\n",
    "\n",
    "        if done or step > max_timesteps: \n",
    "            break\n",
    "\n",
    "    return episode_reward\n",
    "\n",
    "\n",
    "if __name__ == \"__main__\":\n",
    "\n",
    "    # important: don't set rendering to False for evaluation (you may get corrupted state images from gym)\n",
    "    rendering = True                      \n",
    "    \n",
    "    n_test_episodes = 100                  # number of episodes to test\n",
    "\n",
    "    # load agent\n",
    "    agent = StateActionModel()\n",
    "    agent.load_state_dict(torch.load(\"model_0.pkl\"))\n",
    "\n",
    "    env = gym.make('CartPole-v1').unwrapped\n",
    "\n",
    "    episode_rewards = []\n",
    "    for i in range(n_test_episodes):\n",
    "        episode_reward = run_episode(env, agent, rendering=rendering)\n",
    "        episode_rewards.append(episode_reward)\n",
    "\n",
    "    # save results in a dictionary and write them into a .json file\n",
    "    results = dict()\n",
    "    results[\"episode_rewards\"] = episode_rewards\n",
    "    results[\"mean\"] = np.array(episode_rewards).mean()\n",
    "    results[\"std\"] = np.array(episode_rewards).std()\n",
    "    print(results)\n",
    "            \n",
    "    env.close()\n",
    "    print('... finished')"
   ]
  },
  {
   "cell_type": "code",
   "execution_count": null,
   "id": "0ce66027",
   "metadata": {},
   "outputs": [],
   "source": []
  }
 ],
 "metadata": {
  "kernelspec": {
   "display_name": "Python 3 (ipykernel)",
   "language": "python",
   "name": "python3"
  },
  "language_info": {
   "codemirror_mode": {
    "name": "ipython",
    "version": 3
   },
   "file_extension": ".py",
   "mimetype": "text/x-python",
   "name": "python",
   "nbconvert_exporter": "python",
   "pygments_lexer": "ipython3",
   "version": "3.8.13"
  }
 },
 "nbformat": 4,
 "nbformat_minor": 5
}
